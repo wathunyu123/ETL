{
 "cells": [
  {
   "cell_type": "code",
   "execution_count": 35,
   "id": "0d7c40a7-f3b6-41c6-96a3-8d6388c48b2c",
   "metadata": {},
   "outputs": [],
   "source": [
    "# Import necessary libraries\n",
    "\n",
    "from pyspark.sql import SparkSession"
   ]
  },
  {
   "cell_type": "code",
   "execution_count": 36,
   "id": "e782f533-abc8-43a3-81cf-c156b7d8eed2",
   "metadata": {},
   "outputs": [],
   "source": [
    "# Create a Spark session\n",
    "\n",
    "spark = SparkSession.builder.appName(\"pyspark-jupyter\").getOrCreate()"
   ]
  },
  {
   "cell_type": "code",
   "execution_count": 37,
   "id": "b4ac72aa-8095-4a30-940d-2828f5f03f62",
   "metadata": {},
   "outputs": [],
   "source": [
    "# Define the path to the data file within the \"sparkdata\" volume\n",
    "\n",
    "data_path_stock_prices = \"/sparkdata/stock/stock_prices.csv\"\n",
    "data_path_stock_list = \"/sparkdata/stock/stock_list.csv\""
   ]
  },
  {
   "cell_type": "code",
   "execution_count": 38,
   "id": "7b5071b1-cc81-4db2-8d38-a854e817c746",
   "metadata": {},
   "outputs": [],
   "source": [
    "# Load the data into a PySpark DataFrame\n",
    "\n",
    "df_stock_prices = spark.read.csv(data_path_stock_prices, header=True, inferSchema=True)\n",
    "df_stock_list = spark.read.csv(data_path_stock_list, header=True, inferSchema=True)"
   ]
  },
  {
   "cell_type": "code",
   "execution_count": 39,
   "id": "797476ef-f02b-43ba-8f77-3a77889c5ac5",
   "metadata": {},
   "outputs": [],
   "source": [
    "# Register the DataFrame as a temporary SQL table\n",
    "\n",
    "df_stock_prices.createOrReplaceTempView(\"stock_prices\")\n",
    "df_stock_list.createOrReplaceTempView(\"stock_list\")"
   ]
  },
  {
   "cell_type": "code",
   "execution_count": 40,
   "id": "a49039eb-502b-4843-b752-a5a81878ae69",
   "metadata": {},
   "outputs": [
    {
     "ename": "ParseException",
     "evalue": "\n[PARSE_SYNTAX_ERROR] Syntax error at or near 'ORDER'.(line 16, pos 4)\n\n== SQL ==\n\n    SELECT \n        stock_prices.Date, \n        stock_prices.RowId, \n        stock_list.Name, \n        stock_list.`Section/Products`, \n        stock_prices.Open, \n        stock_prices.High, \n        stock_prices.Low, \n        stock_prices.Close, \n        stock_prices.Volume\n    FROM stock_prices \n    INNER JOIN stock_list \n    ON stock_prices.SecuritiesCode = stock_list.SecuritiesCode\n    LIMIT 15\n    ORDER BY Date DESC\n----^^^\n",
     "output_type": "error",
     "traceback": [
      "\u001b[0;31m---------------------------------------------------------------------------\u001b[0m",
      "\u001b[0;31mParseException\u001b[0m                            Traceback (most recent call last)",
      "Cell \u001b[0;32mIn[40], line 3\u001b[0m\n\u001b[1;32m      1\u001b[0m \u001b[38;5;66;03m# Perform an SQL query to select 15 recent stock records based on the date\u001b[39;00m\n\u001b[0;32m----> 3\u001b[0m stock_query \u001b[38;5;241m=\u001b[39m \u001b[43mspark\u001b[49m\u001b[38;5;241;43m.\u001b[39;49m\u001b[43msql\u001b[49m\u001b[43m(\u001b[49m\u001b[38;5;124;43m\"\"\"\u001b[39;49m\n\u001b[1;32m      4\u001b[0m \u001b[38;5;124;43m    SELECT \u001b[39;49m\n\u001b[1;32m      5\u001b[0m \u001b[38;5;124;43m        stock_prices.Date, \u001b[39;49m\n\u001b[1;32m      6\u001b[0m \u001b[38;5;124;43m        stock_prices.RowId, \u001b[39;49m\n\u001b[1;32m      7\u001b[0m \u001b[38;5;124;43m        stock_list.Name, \u001b[39;49m\n\u001b[1;32m      8\u001b[0m \u001b[38;5;124;43m        stock_list.`Section/Products`, \u001b[39;49m\n\u001b[1;32m      9\u001b[0m \u001b[38;5;124;43m        stock_prices.Open, \u001b[39;49m\n\u001b[1;32m     10\u001b[0m \u001b[38;5;124;43m        stock_prices.High, \u001b[39;49m\n\u001b[1;32m     11\u001b[0m \u001b[38;5;124;43m        stock_prices.Low, \u001b[39;49m\n\u001b[1;32m     12\u001b[0m \u001b[38;5;124;43m        stock_prices.Close, \u001b[39;49m\n\u001b[1;32m     13\u001b[0m \u001b[38;5;124;43m        stock_prices.Volume\u001b[39;49m\n\u001b[1;32m     14\u001b[0m \u001b[38;5;124;43m    FROM stock_prices \u001b[39;49m\n\u001b[1;32m     15\u001b[0m \u001b[38;5;124;43m    INNER JOIN stock_list \u001b[39;49m\n\u001b[1;32m     16\u001b[0m \u001b[38;5;124;43m    ON stock_prices.SecuritiesCode = stock_list.SecuritiesCode\u001b[39;49m\n\u001b[1;32m     17\u001b[0m \u001b[38;5;124;43m    LIMIT 15\u001b[39;49m\n\u001b[1;32m     18\u001b[0m \u001b[38;5;124;43m    ORDER BY Date DESC\u001b[39;49m\n\u001b[1;32m     19\u001b[0m \u001b[38;5;124;43m\"\"\"\u001b[39;49m\u001b[43m)\u001b[49m\n",
      "File \u001b[0;32m/usr/local/spark/python/pyspark/sql/session.py:1631\u001b[0m, in \u001b[0;36mSparkSession.sql\u001b[0;34m(self, sqlQuery, args, **kwargs)\u001b[0m\n\u001b[1;32m   1627\u001b[0m         \u001b[38;5;28;01massert\u001b[39;00m \u001b[38;5;28mself\u001b[39m\u001b[38;5;241m.\u001b[39m_jvm \u001b[38;5;129;01mis\u001b[39;00m \u001b[38;5;129;01mnot\u001b[39;00m \u001b[38;5;28;01mNone\u001b[39;00m\n\u001b[1;32m   1628\u001b[0m         litArgs \u001b[38;5;241m=\u001b[39m \u001b[38;5;28mself\u001b[39m\u001b[38;5;241m.\u001b[39m_jvm\u001b[38;5;241m.\u001b[39mPythonUtils\u001b[38;5;241m.\u001b[39mtoArray(\n\u001b[1;32m   1629\u001b[0m             [_to_java_column(lit(v)) \u001b[38;5;28;01mfor\u001b[39;00m v \u001b[38;5;129;01min\u001b[39;00m (args \u001b[38;5;129;01mor\u001b[39;00m [])]\n\u001b[1;32m   1630\u001b[0m         )\n\u001b[0;32m-> 1631\u001b[0m     \u001b[38;5;28;01mreturn\u001b[39;00m DataFrame(\u001b[38;5;28;43mself\u001b[39;49m\u001b[38;5;241;43m.\u001b[39;49m\u001b[43m_jsparkSession\u001b[49m\u001b[38;5;241;43m.\u001b[39;49m\u001b[43msql\u001b[49m\u001b[43m(\u001b[49m\u001b[43msqlQuery\u001b[49m\u001b[43m,\u001b[49m\u001b[43m \u001b[49m\u001b[43mlitArgs\u001b[49m\u001b[43m)\u001b[49m, \u001b[38;5;28mself\u001b[39m)\n\u001b[1;32m   1632\u001b[0m \u001b[38;5;28;01mfinally\u001b[39;00m:\n\u001b[1;32m   1633\u001b[0m     \u001b[38;5;28;01mif\u001b[39;00m \u001b[38;5;28mlen\u001b[39m(kwargs) \u001b[38;5;241m>\u001b[39m \u001b[38;5;241m0\u001b[39m:\n",
      "File \u001b[0;32m/usr/local/spark/python/lib/py4j-0.10.9.7-src.zip/py4j/java_gateway.py:1322\u001b[0m, in \u001b[0;36mJavaMember.__call__\u001b[0;34m(self, *args)\u001b[0m\n\u001b[1;32m   1316\u001b[0m command \u001b[38;5;241m=\u001b[39m proto\u001b[38;5;241m.\u001b[39mCALL_COMMAND_NAME \u001b[38;5;241m+\u001b[39m\\\n\u001b[1;32m   1317\u001b[0m     \u001b[38;5;28mself\u001b[39m\u001b[38;5;241m.\u001b[39mcommand_header \u001b[38;5;241m+\u001b[39m\\\n\u001b[1;32m   1318\u001b[0m     args_command \u001b[38;5;241m+\u001b[39m\\\n\u001b[1;32m   1319\u001b[0m     proto\u001b[38;5;241m.\u001b[39mEND_COMMAND_PART\n\u001b[1;32m   1321\u001b[0m answer \u001b[38;5;241m=\u001b[39m \u001b[38;5;28mself\u001b[39m\u001b[38;5;241m.\u001b[39mgateway_client\u001b[38;5;241m.\u001b[39msend_command(command)\n\u001b[0;32m-> 1322\u001b[0m return_value \u001b[38;5;241m=\u001b[39m \u001b[43mget_return_value\u001b[49m\u001b[43m(\u001b[49m\n\u001b[1;32m   1323\u001b[0m \u001b[43m    \u001b[49m\u001b[43manswer\u001b[49m\u001b[43m,\u001b[49m\u001b[43m \u001b[49m\u001b[38;5;28;43mself\u001b[39;49m\u001b[38;5;241;43m.\u001b[39;49m\u001b[43mgateway_client\u001b[49m\u001b[43m,\u001b[49m\u001b[43m \u001b[49m\u001b[38;5;28;43mself\u001b[39;49m\u001b[38;5;241;43m.\u001b[39;49m\u001b[43mtarget_id\u001b[49m\u001b[43m,\u001b[49m\u001b[43m \u001b[49m\u001b[38;5;28;43mself\u001b[39;49m\u001b[38;5;241;43m.\u001b[39;49m\u001b[43mname\u001b[49m\u001b[43m)\u001b[49m\n\u001b[1;32m   1325\u001b[0m \u001b[38;5;28;01mfor\u001b[39;00m temp_arg \u001b[38;5;129;01min\u001b[39;00m temp_args:\n\u001b[1;32m   1326\u001b[0m     \u001b[38;5;28;01mif\u001b[39;00m \u001b[38;5;28mhasattr\u001b[39m(temp_arg, \u001b[38;5;124m\"\u001b[39m\u001b[38;5;124m_detach\u001b[39m\u001b[38;5;124m\"\u001b[39m):\n",
      "File \u001b[0;32m/usr/local/spark/python/pyspark/errors/exceptions/captured.py:185\u001b[0m, in \u001b[0;36mcapture_sql_exception.<locals>.deco\u001b[0;34m(*a, **kw)\u001b[0m\n\u001b[1;32m    181\u001b[0m converted \u001b[38;5;241m=\u001b[39m convert_exception(e\u001b[38;5;241m.\u001b[39mjava_exception)\n\u001b[1;32m    182\u001b[0m \u001b[38;5;28;01mif\u001b[39;00m \u001b[38;5;129;01mnot\u001b[39;00m \u001b[38;5;28misinstance\u001b[39m(converted, UnknownException):\n\u001b[1;32m    183\u001b[0m     \u001b[38;5;66;03m# Hide where the exception came from that shows a non-Pythonic\u001b[39;00m\n\u001b[1;32m    184\u001b[0m     \u001b[38;5;66;03m# JVM exception message.\u001b[39;00m\n\u001b[0;32m--> 185\u001b[0m     \u001b[38;5;28;01mraise\u001b[39;00m converted \u001b[38;5;28;01mfrom\u001b[39;00m \u001b[38;5;28;01mNone\u001b[39;00m\n\u001b[1;32m    186\u001b[0m \u001b[38;5;28;01melse\u001b[39;00m:\n\u001b[1;32m    187\u001b[0m     \u001b[38;5;28;01mraise\u001b[39;00m\n",
      "\u001b[0;31mParseException\u001b[0m: \n[PARSE_SYNTAX_ERROR] Syntax error at or near 'ORDER'.(line 16, pos 4)\n\n== SQL ==\n\n    SELECT \n        stock_prices.Date, \n        stock_prices.RowId, \n        stock_list.Name, \n        stock_list.`Section/Products`, \n        stock_prices.Open, \n        stock_prices.High, \n        stock_prices.Low, \n        stock_prices.Close, \n        stock_prices.Volume\n    FROM stock_prices \n    INNER JOIN stock_list \n    ON stock_prices.SecuritiesCode = stock_list.SecuritiesCode\n    LIMIT 15\n    ORDER BY Date DESC\n----^^^\n"
     ]
    }
   ],
   "source": [
    "# Perform an SQL query to select 15 recent stock records based on the date\n",
    "\n",
    "stock_query = spark.sql(\"\"\"\n",
    "    -- Select specific columns from stock_prices and stock_list tables\n",
    "    SELECT \n",
    "        stock_prices.Date,            -- Date of the stock record\n",
    "        stock_prices.RowId,           -- Row ID from the stock_prices table\n",
    "        stock_list.Name,              -- Stock name from the stock_list table\n",
    "        stock_list.`Section/Products`,-- Section or Products column from stock_list table (escaped with backticks)\n",
    "        stock_prices.Open,            -- Opening price of the stock\n",
    "        stock_prices.High,            -- Highest price during the trading session\n",
    "        stock_prices.Low,             -- Lowest price during the trading session\n",
    "        stock_prices.Close,           -- Closing price of the stock\n",
    "        stock_prices.Volume           -- Volume of stocks traded\n",
    "    FROM stock_prices \n",
    "    -- Perform an INNER JOIN on the SecuritiesCode column to link stock_prices and stock_list\n",
    "    INNER JOIN stock_list \n",
    "    ON stock_prices.SecuritiesCode = stock_list.SecuritiesCode\n",
    "    -- Retrieve the most recent 15 stock records\n",
    "    ORDER BY stock_prices.Date DESC  -- Sort the results by date in descending order (most recent first)\n",
    "    LIMIT 15                         -- Limit the result to 15 rows\n",
    "\"\"\")"
   ]
  },
  {
   "cell_type": "code",
   "execution_count": null,
   "id": "50def50c-2aa3-4833-8de2-a57da5a4cbd0",
   "metadata": {},
   "outputs": [],
   "source": [
    "# Show the result of the query\n",
    "\n",
    "stock_query.show()"
   ]
  },
  {
   "cell_type": "code",
   "execution_count": null,
   "id": "b8a259c1-d5ca-46d3-a3f5-ff80f31f9a25",
   "metadata": {},
   "outputs": [],
   "source": []
  }
 ],
 "metadata": {
  "kernelspec": {
   "display_name": "Python 3 (ipykernel)",
   "language": "python",
   "name": "python3"
  },
  "language_info": {
   "codemirror_mode": {
    "name": "ipython",
    "version": 3
   },
   "file_extension": ".py",
   "mimetype": "text/x-python",
   "name": "python",
   "nbconvert_exporter": "python",
   "pygments_lexer": "ipython3",
   "version": "3.11.6"
  }
 },
 "nbformat": 4,
 "nbformat_minor": 5
}
