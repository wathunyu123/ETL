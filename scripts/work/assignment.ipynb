{
 "cells": [
  {
   "cell_type": "code",
   "execution_count": 41,
   "id": "0d7c40a7-f3b6-41c6-96a3-8d6388c48b2c",
   "metadata": {},
   "outputs": [],
   "source": [
    "# Import necessary libraries\n",
    "\n",
    "from pyspark.sql import SparkSession"
   ]
  },
  {
   "cell_type": "code",
   "execution_count": 42,
   "id": "e782f533-abc8-43a3-81cf-c156b7d8eed2",
   "metadata": {},
   "outputs": [],
   "source": [
    "# Create a Spark session\n",
    "\n",
    "spark = SparkSession.builder.appName(\"pyspark-jupyter\").getOrCreate()"
   ]
  },
  {
   "cell_type": "code",
   "execution_count": 43,
   "id": "b4ac72aa-8095-4a30-940d-2828f5f03f62",
   "metadata": {},
   "outputs": [],
   "source": [
    "# Define the path to the data file within the \"sparkdata\" volume\n",
    "\n",
    "data_path_stock_prices = \"/sparkdata/stock/stock_prices.csv\"\n",
    "data_path_stock_list = \"/sparkdata/stock/stock_list.csv\""
   ]
  },
  {
   "cell_type": "code",
   "execution_count": 44,
   "id": "7b5071b1-cc81-4db2-8d38-a854e817c746",
   "metadata": {},
   "outputs": [],
   "source": [
    "# Load the data into a PySpark DataFrame\n",
    "\n",
    "df_stock_prices = spark.read.csv(data_path_stock_prices, header=True, inferSchema=True)\n",
    "df_stock_list = spark.read.csv(data_path_stock_list, header=True, inferSchema=True)"
   ]
  },
  {
   "cell_type": "code",
   "execution_count": 45,
   "id": "797476ef-f02b-43ba-8f77-3a77889c5ac5",
   "metadata": {},
   "outputs": [],
   "source": [
    "# Register the DataFrame as a temporary SQL table\n",
    "\n",
    "df_stock_prices.createOrReplaceTempView(\"stock_prices\")\n",
    "df_stock_list.createOrReplaceTempView(\"stock_list\")"
   ]
  },
  {
   "cell_type": "code",
   "execution_count": 46,
   "id": "a49039eb-502b-4843-b752-a5a81878ae69",
   "metadata": {},
   "outputs": [],
   "source": [
    "# Perform an SQL query to select 15 recent stock records based on the date\n",
    "\n",
    "stock_query = spark.sql(\"\"\"\n",
    "    -- Select specific columns from stock_prices and stock_list tables\n",
    "    SELECT \n",
    "        stock_prices.Date,            -- Date of the stock record\n",
    "        stock_prices.RowId,           -- Row ID from the stock_prices table\n",
    "        stock_list.Name,              -- Stock name from the stock_list table\n",
    "        stock_list.`Section/Products`,-- Section or Products column from stock_list table (escaped with backticks)\n",
    "        stock_prices.Open,            -- Opening price of the stock\n",
    "        stock_prices.High,            -- Highest price during the trading session\n",
    "        stock_prices.Low,             -- Lowest price during the trading session\n",
    "        stock_prices.Close,           -- Closing price of the stock\n",
    "        stock_prices.Volume           -- Volume of stocks traded\n",
    "    FROM stock_prices \n",
    "    -- Perform an INNER JOIN on the SecuritiesCode column to link stock_prices and stock_list\n",
    "    INNER JOIN stock_list \n",
    "    ON stock_prices.SecuritiesCode = stock_list.SecuritiesCode\n",
    "    -- Retrieve the most recent 15 stock records\n",
    "    ORDER BY stock_prices.Date DESC  -- Sort the results by date in descending order (most recent first)\n",
    "    LIMIT 15                         -- Limit the result to 15 rows\n",
    "\"\"\")"
   ]
  },
  {
   "cell_type": "code",
   "execution_count": 47,
   "id": "50def50c-2aa3-4833-8de2-a57da5a4cbd0",
   "metadata": {},
   "outputs": [
    {
     "name": "stdout",
     "output_type": "stream",
     "text": [
      "+----------+-------------+--------------------+--------------------+------+------+------+------+-------+\n",
      "|      Date|        RowId|                Name|    Section/Products|  Open|  High|   Low| Close| Volume|\n",
      "+----------+-------------+--------------------+--------------------+------+------+------+------+-------+\n",
      "|2021-12-03|20211203_1301|    KYOKUYO CO.,LTD.|First Section (Do...|2983.0|2983.0|2965.0|2982.0|  11400|\n",
      "|2021-12-03|20211203_1431|   Lib Work Co.,Ltd.|  Mothers (Domestic)| 813.0| 830.0| 809.0| 830.0|  37300|\n",
      "|2021-12-03|20211203_1332|Nippon Suisan Kai...|First Section (Do...| 579.0| 585.0| 570.0| 585.0|1195500|\n",
      "|2021-12-03|20211203_1333|Maruha Nichiro Co...|First Section (Do...|2333.0|2358.0|2315.0|2358.0| 103200|\n",
      "|2021-12-03|20211203_1375|YUKIGUNI MAITAKE ...|First Section (Do...|1222.0|1236.0|1218.0|1235.0|  69900|\n",
      "|2021-12-03|20211203_1376|KANEKO SEEDS CO.,...|First Section (Do...|1370.0|1370.0|1321.0|1332.0|   5000|\n",
      "|2021-12-03|20211203_1377|SAKATA SEED CORPO...|First Section (Do...|3130.0|3175.0|3115.0|3170.0|  60200|\n",
      "|2021-12-03|20211203_1379|  HOKUTO CORPORATION|First Section (Do...|1870.0|1893.0|1870.0|1891.0|  27400|\n",
      "|2021-12-03|20211203_1381|       AXYZ CO.,Ltd.|JASDAQ(Standard /...|3125.0|3200.0|3125.0|3200.0|    700|\n",
      "|2021-12-03|20211203_1407|West Holdings Cor...|JASDAQ(Standard /...|6030.0|6200.0|5900.0|6190.0| 355900|\n",
      "|2021-12-03|20211203_1413|Hinokiya Group Co...|First Section (Do...|2162.0|2197.0|2133.0|2197.0|  14200|\n",
      "|2021-12-03|20211203_1414|SHO-BOND Holdings...|First Section (Do...|4990.0|5100.0|4965.0|5100.0| 198100|\n",
      "|2021-12-03|20211203_1417|MIRAIT Holdings C...|First Section (Do...|1967.0|1994.0|1963.0|1990.0| 133500|\n",
      "|2021-12-03|20211203_1419|  Tama Home Co.,Ltd.|First Section (Do...|2230.0|2285.0|2226.0|2284.0| 143200|\n",
      "|2021-12-03|20211203_1429|Nippon Aqua Co.,Ltd.|First Section (Do...| 690.0| 715.0| 684.0| 713.0|  74200|\n",
      "+----------+-------------+--------------------+--------------------+------+------+------+------+-------+\n",
      "\n"
     ]
    }
   ],
   "source": [
    "# Show the result of the query\n",
    "\n",
    "stock_query.show()"
   ]
  }
 ],
 "metadata": {
  "kernelspec": {
   "display_name": "Python 3 (ipykernel)",
   "language": "python",
   "name": "python3"
  },
  "language_info": {
   "codemirror_mode": {
    "name": "ipython",
    "version": 3
   },
   "file_extension": ".py",
   "mimetype": "text/x-python",
   "name": "python",
   "nbconvert_exporter": "python",
   "pygments_lexer": "ipython3",
   "version": "3.11.6"
  }
 },
 "nbformat": 4,
 "nbformat_minor": 5
}
