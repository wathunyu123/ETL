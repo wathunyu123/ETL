{
 "cells": [
  {
   "cell_type": "code",
   "execution_count": 8,
   "id": "4942a870-cf60-4dad-b258-85c682e32b8d",
   "metadata": {},
   "outputs": [],
   "source": [
    "# Import necessary libraries\n",
    "\n",
    "from pyspark.sql import SparkSession"
   ]
  },
  {
   "cell_type": "code",
   "execution_count": 9,
   "id": "8fe506f5-49ca-48c3-a131-a6e8ffa34d2a",
   "metadata": {},
   "outputs": [],
   "source": [
    "# Create a Spark session\n",
    "\n",
    "spark = SparkSession.builder.appName(\"pyspark-jupyter\").getOrCreate()"
   ]
  },
  {
   "cell_type": "code",
   "execution_count": 10,
   "id": "6b2ca73c-c67d-4306-b5f0-7d9d51e4633c",
   "metadata": {},
   "outputs": [],
   "source": [
    "# Define the path to the data file within the \"sparkdata\" volume\n",
    "\n",
    "data_path = \"/sparkdata/taxi_trip/taxi_zone_lookup.csv\""
   ]
  },
  {
   "cell_type": "code",
   "execution_count": 11,
   "id": "4a8d4740-8b24-4ecc-adcd-fede48ec623d",
   "metadata": {},
   "outputs": [],
   "source": [
    "# Load the data into a PySpark DataFrame\n",
    "\n",
    "df = spark.read.csv(data_path, header=True, inferSchema=True)"
   ]
  },
  {
   "cell_type": "code",
   "execution_count": 12,
   "id": "57012099-c8da-45dd-b3c6-18e2c2c8952e",
   "metadata": {},
   "outputs": [],
   "source": [
    "# Register the DataFrame as a temporary SQL table\n",
    "\n",
    "df.createOrReplaceTempView(\"taxi_zone\")"
   ]
  },
  {
   "cell_type": "code",
   "execution_count": 13,
   "id": "b7fc6534-123b-4428-b051-629074d5bd9d",
   "metadata": {},
   "outputs": [],
   "source": [
    "# Perform an SQL query to select 3 sample rows\n",
    "\n",
    "sample_query = spark.sql(\"SELECT * FROM taxi_zone LIMIT 3\")"
   ]
  },
  {
   "cell_type": "code",
   "execution_count": 14,
   "id": "71007d35-faaf-49ec-9809-290ec39f64d4",
   "metadata": {},
   "outputs": [
    {
     "name": "stdout",
     "output_type": "stream",
     "text": [
      "+----------+-------+--------------------+------------+\n",
      "|LocationID|Borough|                Zone|service_zone|\n",
      "+----------+-------+--------------------+------------+\n",
      "|         1|    EWR|      Newark Airport|         EWR|\n",
      "|         2| Queens|         Jamaica Bay|   Boro Zone|\n",
      "|         3|  Bronx|Allerton/Pelham G...|   Boro Zone|\n",
      "+----------+-------+--------------------+------------+\n",
      "\n"
     ]
    }
   ],
   "source": [
    "# Show the result of the query\n",
    "\n",
    "sample_query.show()"
   ]
  },
  {
   "cell_type": "code",
   "execution_count": null,
   "id": "21e2b1ea-0fec-4870-ae10-520185a2e76c",
   "metadata": {},
   "outputs": [],
   "source": []
  }
 ],
 "metadata": {
  "kernelspec": {
   "display_name": "Python 3 (ipykernel)",
   "language": "python",
   "name": "python3"
  },
  "language_info": {
   "codemirror_mode": {
    "name": "ipython",
    "version": 3
   },
   "file_extension": ".py",
   "mimetype": "text/x-python",
   "name": "python",
   "nbconvert_exporter": "python",
   "pygments_lexer": "ipython3",
   "version": "3.11.6"
  }
 },
 "nbformat": 4,
 "nbformat_minor": 5
}
